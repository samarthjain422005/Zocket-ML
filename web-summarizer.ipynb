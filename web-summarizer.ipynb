{
 "cells": [
  {
   "cell_type": "code",
   "execution_count": 52,
   "id": "0e0cb291-6995-4992-85fc-e5764024edb9",
   "metadata": {},
   "outputs": [],
   "source": [
    "import re\n",
    "import html\n",
    "import unicodedata\n",
    "import time\n",
    "import math\n",
    "from selenium import webdriver\n",
    "from selenium.webdriver.common.by import By\n",
    "from selenium.webdriver.chrome.options import Options\n",
    "from selenium.webdriver.support.ui import WebDriverWait\n",
    "from selenium.webdriver.support import expected_conditions as EC\n",
    "\n",
    "from langchain.vectorstores import FAISS\n",
    "from langchain.embeddings import SentenceTransformerEmbeddings\n",
    "from langchain.docstore.document import Document\n",
    "from google.generativeai import configure, GenerativeModel"
   ]
  },
  {
   "cell_type": "code",
   "execution_count": 125,
   "id": "342c2cf2-356f-453e-b935-1c7d574762be",
   "metadata": {},
   "outputs": [],
   "source": [
    "# Gemini API \n",
    "configure(api_key=\"\")\n",
    "model = GenerativeModel(\"gemini-1.5-pro\")"
   ]
  },
  {
   "cell_type": "code",
   "execution_count": 126,
   "id": "62dbbf0d-5b97-47da-8886-918271645497",
   "metadata": {},
   "outputs": [],
   "source": [
    "def gemini_text_analysis(prompt):\n",
    "    response = model.generate_content(prompt)\n",
    "    return response.text.strip()\n"
   ]
  },
  {
   "cell_type": "code",
   "execution_count": 127,
   "id": "d5650293-236a-485b-a408-7d58103221be",
   "metadata": {},
   "outputs": [],
   "source": [
    "# Scrapping Website\n",
    "def scrape_website(url):\n",
    "    options = Options()\n",
    "    options.add_argument(\"--headless\")\n",
    "    options.add_argument(\"--disable-gpu\")\n",
    "    options.add_argument(\"--no-sandbox\")\n",
    "    options.add_argument(\"--disable-dev-shm-usage\")\n",
    "    options.add_argument(\"--window-size=1920,1080\")\n",
    "\n",
    "    driver = webdriver.Chrome(options=options)\n",
    "    driver.get(url)\n",
    "\n",
    "    try:\n",
    "        WebDriverWait(driver, 10).until(\n",
    "            EC.presence_of_element_located((By.TAG_NAME, \"body\"))\n",
    "        )\n",
    "\n",
    "        last_height = driver.execute_script(\"return document.body.scrollHeight\")\n",
    "        for _ in range(3):\n",
    "            driver.execute_script(\"window.scrollTo(0, document.body.scrollHeight);\")\n",
    "            time.sleep(1.5)\n",
    "            new_height = driver.execute_script(\"return document.body.scrollHeight\")\n",
    "            if new_height == last_height:\n",
    "                break\n",
    "            last_height = new_height\n",
    "\n",
    "        driver.execute_script(\"\"\"\n",
    "            const elements = document.querySelectorAll('script, style, noscript, iframe');\n",
    "            elements.forEach(el => el.remove());\n",
    "        \"\"\")\n",
    "\n",
    "        body = driver.find_element(By.TAG_NAME, \"body\")\n",
    "        text = body.text\n",
    "\n",
    "    except Exception as e:\n",
    "        text = f\"Error during scraping: {str(e)}\"\n",
    "\n",
    "    finally:\n",
    "        driver.quit()\n",
    "\n",
    "    return text"
   ]
  },
  {
   "cell_type": "code",
   "execution_count": 128,
   "id": "783adcff-e221-4ee4-a1b4-2e17e3b9f191",
   "metadata": {},
   "outputs": [],
   "source": [
    "# Step 2: Preprocessing Text\n",
    "def preprocess_text(raw_text):\n",
    "    text = html.unescape(raw_text)\n",
    "    text = unicodedata.normalize(\"NFKD\", text).encode(\"ascii\", \"ignore\").decode()\n",
    "    lines = text.splitlines()\n",
    "    seen = set()\n",
    "    cleaned_lines = []\n",
    "    for line in lines:\n",
    "        line = line.strip()\n",
    "        if not line or line in seen:\n",
    "            continue\n",
    "        seen.add(line)\n",
    "        if len(line) < 10:\n",
    "            continue\n",
    "        if re.search(r\"(copyright|privacy|terms|cookies|login|signup|subscribe)\", line, re.I):\n",
    "            continue\n",
    "        if re.match(r\"^[\\d:\\-/\\s]+$\", line):\n",
    "            continue\n",
    "        cleaned_lines.append(line)\n",
    "    cleaned_text = \"\\n\".join(cleaned_lines)\n",
    "    return re.sub(r\"\\n{2,}\", \"\\n\", cleaned_text)"
   ]
  },
  {
   "cell_type": "code",
   "execution_count": 129,
   "id": "f3b14493-777f-46c3-9d88-b53d33238e2b",
   "metadata": {},
   "outputs": [],
   "source": [
    "# Step 3: Splitting Cleaned Text into Chunks\n",
    "def split_text_into_chunks(cleaned_text, max_len=5000, overlap=50):\n",
    "    chunks = {}\n",
    "    start = 0\n",
    "    chunk_id = 1\n",
    "    while start < len(cleaned_text):\n",
    "        end = min(start + max_len, len(cleaned_text))\n",
    "        buffer_start = max(0, start - overlap)\n",
    "        buffer_end = min(len(cleaned_text), end + overlap)\n",
    "        chunk = cleaned_text[buffer_start:buffer_end].strip()\n",
    "        chunks[f\"chunk_{chunk_id}\"] = chunk\n",
    "        chunk_id += 1\n",
    "        start += max_len\n",
    "    return chunks"
   ]
  },
  {
   "cell_type": "code",
   "execution_count": 130,
   "id": "bcd0e22f-6189-4b0e-9607-14b222e6ad26",
   "metadata": {},
   "outputs": [],
   "source": [
    "# Storing Chunks in Vector DB\n",
    "def store_chunks_in_vector_db(text_chunks):\n",
    "    docs = [Document(page_content=chunk, metadata={\"id\": name}) for name, chunk in text_chunks.items()]\n",
    "    embeddings = SentenceTransformerEmbeddings(model_name=\"all-MiniLM-L6-v2\")\n",
    "    vector_db = FAISS.from_documents(docs, embedding=embeddings)\n",
    "    return vector_db"
   ]
  },
  {
   "cell_type": "code",
   "execution_count": 131,
   "id": "c7a691e3-d384-44cb-8ff8-504f20bb7018",
   "metadata": {},
   "outputs": [],
   "source": [
    "# Extracting key information and analyzing the documents\n",
    "def analyze_chunks_from_vector_db(vector_db):\n",
    "    summaries = []\n",
    "    for doc in vector_db.docstore._dict.values():\n",
    "        prompt = f\"\"\"\n",
    "You are an expert content analyst. Carefully read the following portion of a webpage and provide a structured analysis.\n",
    "\n",
    "### Section Content:\n",
    "{doc.page_content}\n",
    "\n",
    "### Instructions:\n",
    "1. Identify the main themes or topics discussed.\n",
    "2. Extract any specific names, organizations, tools, or locations ,i.e, Named Entities.\n",
    "3. Explain the purpose or intent of this section in the broader context of the website.\n",
    "\n",
    "### Output Format:\n",
    "- Main Topics: ...\n",
    "- Named Entities: ...\n",
    "- Purpose/Intent: ...\n",
    "\"\"\"\n",
    "        response = gemini_text_analysis(prompt)\n",
    "        summaries.append(response.strip())\n",
    "    return summaries\n"
   ]
  },
  {
   "cell_type": "code",
   "execution_count": 132,
   "id": "cd34f341-cd5f-4457-b5c3-2f2f626af71b",
   "metadata": {},
   "outputs": [],
   "source": [
    "# Generating Final Summary\n",
    "def generate_final_summary_from_chunks(summaries):\n",
    "    combined = \"\\n\\n\".join(summaries)\n",
    "    final_prompt = f\"\"\"\n",
    "You are a skilled summarization expert. You are provided with separate summaries of various website areas. Your task is to synthesize a final, coherent summary.\n",
    "\n",
    "### Section-Wise Summaries:\n",
    "{combined}\n",
    "\n",
    "### Instructions:\n",
    "- Remove redundant points.\n",
    "- Merge related insights.\n",
    "- Present the summary in a concise, clear and well-organized format.\n",
    "- Give the full summary in one paragraph\n",
    "\n",
    "### Final Summary:\n",
    "\"\"\"\n",
    "    return gemini_text_analysis(final_prompt)"
   ]
  },
  {
   "cell_type": "code",
   "execution_count": 133,
   "id": "73eb79df-7b40-4a4d-98d6-ac29cb193a21",
   "metadata": {},
   "outputs": [],
   "source": [
    "# Full Pipeline\n",
    "def full_pipeline(url):\n",
    "    raw = scrape_website(url)\n",
    "    cleaned = preprocess_text(raw)\n",
    "    chunks = split_text_into_chunks(cleaned)\n",
    "    vector_db = store_chunks_in_vector_db(chunks)\n",
    "    summaries = analyze_chunks_from_vector_db(vector_db)\n",
    "    final_summary = generate_final_summary_from_chunks(summaries)\n",
    "    return final_summary\n"
   ]
  },
  {
   "cell_type": "code",
   "execution_count": 134,
   "id": "be47d833-5a8c-4d9a-9984-da55391f33cf",
   "metadata": {},
   "outputs": [
    {
     "ename": "ResourceExhausted",
     "evalue": "429 You exceeded your current quota, please check your plan and billing details. For more information on this error, head to: https://ai.google.dev/gemini-api/docs/rate-limits. [violations {\n}\nviolations {\n}\nviolations {\n}\n, links {\n  description: \"Learn more about Gemini API quotas\"\n  url: \"https://ai.google.dev/gemini-api/docs/rate-limits\"\n}\n, retry_delay {\n  seconds: 40\n}\n]",
     "output_type": "error",
     "traceback": [
      "\u001b[1;31m---------------------------------------------------------------------------\u001b[0m",
      "\u001b[1;31mResourceExhausted\u001b[0m                         Traceback (most recent call last)",
      "Cell \u001b[1;32mIn[134], line 2\u001b[0m\n\u001b[0;32m      1\u001b[0m url \u001b[38;5;241m=\u001b[39m \u001b[38;5;124m\"\u001b[39m\u001b[38;5;124mhttps://en.wikipedia.org/wiki/Indian_Premier_League\u001b[39m\u001b[38;5;124m\"\u001b[39m\n\u001b[1;32m----> 2\u001b[0m summary \u001b[38;5;241m=\u001b[39m full_pipeline(url)\n\u001b[0;32m      3\u001b[0m \u001b[38;5;28mprint\u001b[39m(\u001b[38;5;124m\"\u001b[39m\u001b[38;5;130;01m\\n\u001b[39;00m\u001b[38;5;124m Final Webpage Summary:\u001b[39m\u001b[38;5;130;01m\\n\u001b[39;00m\u001b[38;5;124m\"\u001b[39m)\n\u001b[0;32m      4\u001b[0m \u001b[38;5;28mprint\u001b[39m(summary)\n",
      "Cell \u001b[1;32mIn[133], line 7\u001b[0m, in \u001b[0;36mfull_pipeline\u001b[1;34m(url)\u001b[0m\n\u001b[0;32m      5\u001b[0m chunks \u001b[38;5;241m=\u001b[39m split_text_into_chunks(cleaned)\n\u001b[0;32m      6\u001b[0m vector_db \u001b[38;5;241m=\u001b[39m store_chunks_in_vector_db(chunks)\n\u001b[1;32m----> 7\u001b[0m summaries \u001b[38;5;241m=\u001b[39m analyze_chunks_from_vector_db(vector_db)\n\u001b[0;32m      8\u001b[0m final_summary \u001b[38;5;241m=\u001b[39m generate_final_summary_from_chunks(summaries)\n\u001b[0;32m      9\u001b[0m \u001b[38;5;28;01mreturn\u001b[39;00m final_summary\n",
      "Cell \u001b[1;32mIn[131], line 21\u001b[0m, in \u001b[0;36manalyze_chunks_from_vector_db\u001b[1;34m(vector_db)\u001b[0m\n\u001b[0;32m      4\u001b[0m     \u001b[38;5;28;01mfor\u001b[39;00m doc \u001b[38;5;129;01min\u001b[39;00m vector_db\u001b[38;5;241m.\u001b[39mdocstore\u001b[38;5;241m.\u001b[39m_dict\u001b[38;5;241m.\u001b[39mvalues():\n\u001b[0;32m      5\u001b[0m         prompt \u001b[38;5;241m=\u001b[39m \u001b[38;5;124mf\u001b[39m\u001b[38;5;124m\"\"\"\u001b[39m\n\u001b[0;32m      6\u001b[0m \u001b[38;5;124mYou are an expert content analyst. Carefully read the following section of a webpage and provide a structured analysis.\u001b[39m\n\u001b[0;32m      7\u001b[0m \n\u001b[1;32m   (...)\u001b[0m\n\u001b[0;32m     19\u001b[0m \u001b[38;5;124m- Purpose/Intent: ...\u001b[39m\n\u001b[0;32m     20\u001b[0m \u001b[38;5;124m\"\"\"\u001b[39m\n\u001b[1;32m---> 21\u001b[0m         response \u001b[38;5;241m=\u001b[39m gemini_text_analysis(prompt)\n\u001b[0;32m     22\u001b[0m         summaries\u001b[38;5;241m.\u001b[39mappend(response\u001b[38;5;241m.\u001b[39mstrip())\n\u001b[0;32m     23\u001b[0m     \u001b[38;5;28;01mreturn\u001b[39;00m summaries\n",
      "Cell \u001b[1;32mIn[126], line 2\u001b[0m, in \u001b[0;36mgemini_text_analysis\u001b[1;34m(prompt)\u001b[0m\n\u001b[0;32m      1\u001b[0m \u001b[38;5;28;01mdef\u001b[39;00m \u001b[38;5;21mgemini_text_analysis\u001b[39m(prompt):\n\u001b[1;32m----> 2\u001b[0m     response \u001b[38;5;241m=\u001b[39m model\u001b[38;5;241m.\u001b[39mgenerate_content(prompt)\n\u001b[0;32m      3\u001b[0m     \u001b[38;5;28;01mreturn\u001b[39;00m response\u001b[38;5;241m.\u001b[39mtext\u001b[38;5;241m.\u001b[39mstrip()\n",
      "File \u001b[1;32m~\\anaconda3\\Lib\\site-packages\\google\\generativeai\\generative_models.py:331\u001b[0m, in \u001b[0;36mGenerativeModel.generate_content\u001b[1;34m(self, contents, generation_config, safety_settings, stream, tools, tool_config, request_options)\u001b[0m\n\u001b[0;32m    329\u001b[0m         \u001b[38;5;28;01mreturn\u001b[39;00m generation_types\u001b[38;5;241m.\u001b[39mGenerateContentResponse\u001b[38;5;241m.\u001b[39mfrom_iterator(iterator)\n\u001b[0;32m    330\u001b[0m     \u001b[38;5;28;01melse\u001b[39;00m:\n\u001b[1;32m--> 331\u001b[0m         response \u001b[38;5;241m=\u001b[39m \u001b[38;5;28mself\u001b[39m\u001b[38;5;241m.\u001b[39m_client\u001b[38;5;241m.\u001b[39mgenerate_content(\n\u001b[0;32m    332\u001b[0m             request,\n\u001b[0;32m    333\u001b[0m             \u001b[38;5;241m*\u001b[39m\u001b[38;5;241m*\u001b[39mrequest_options,\n\u001b[0;32m    334\u001b[0m         )\n\u001b[0;32m    335\u001b[0m         \u001b[38;5;28;01mreturn\u001b[39;00m generation_types\u001b[38;5;241m.\u001b[39mGenerateContentResponse\u001b[38;5;241m.\u001b[39mfrom_response(response)\n\u001b[0;32m    336\u001b[0m \u001b[38;5;28;01mexcept\u001b[39;00m google\u001b[38;5;241m.\u001b[39mapi_core\u001b[38;5;241m.\u001b[39mexceptions\u001b[38;5;241m.\u001b[39mInvalidArgument \u001b[38;5;28;01mas\u001b[39;00m e:\n",
      "File \u001b[1;32m~\\anaconda3\\Lib\\site-packages\\google\\ai\\generativelanguage_v1beta\\services\\generative_service\\client.py:835\u001b[0m, in \u001b[0;36mGenerativeServiceClient.generate_content\u001b[1;34m(self, request, model, contents, retry, timeout, metadata)\u001b[0m\n\u001b[0;32m    832\u001b[0m \u001b[38;5;28mself\u001b[39m\u001b[38;5;241m.\u001b[39m_validate_universe_domain()\n\u001b[0;32m    834\u001b[0m \u001b[38;5;66;03m# Send the request.\u001b[39;00m\n\u001b[1;32m--> 835\u001b[0m response \u001b[38;5;241m=\u001b[39m rpc(\n\u001b[0;32m    836\u001b[0m     request,\n\u001b[0;32m    837\u001b[0m     retry\u001b[38;5;241m=\u001b[39mretry,\n\u001b[0;32m    838\u001b[0m     timeout\u001b[38;5;241m=\u001b[39mtimeout,\n\u001b[0;32m    839\u001b[0m     metadata\u001b[38;5;241m=\u001b[39mmetadata,\n\u001b[0;32m    840\u001b[0m )\n\u001b[0;32m    842\u001b[0m \u001b[38;5;66;03m# Done; return the response.\u001b[39;00m\n\u001b[0;32m    843\u001b[0m \u001b[38;5;28;01mreturn\u001b[39;00m response\n",
      "File \u001b[1;32m~\\anaconda3\\Lib\\site-packages\\google\\api_core\\gapic_v1\\method.py:131\u001b[0m, in \u001b[0;36m_GapicCallable.__call__\u001b[1;34m(self, timeout, retry, compression, *args, **kwargs)\u001b[0m\n\u001b[0;32m    128\u001b[0m \u001b[38;5;28;01mif\u001b[39;00m \u001b[38;5;28mself\u001b[39m\u001b[38;5;241m.\u001b[39m_compression \u001b[38;5;129;01mis\u001b[39;00m \u001b[38;5;129;01mnot\u001b[39;00m \u001b[38;5;28;01mNone\u001b[39;00m:\n\u001b[0;32m    129\u001b[0m     kwargs[\u001b[38;5;124m\"\u001b[39m\u001b[38;5;124mcompression\u001b[39m\u001b[38;5;124m\"\u001b[39m] \u001b[38;5;241m=\u001b[39m compression\n\u001b[1;32m--> 131\u001b[0m \u001b[38;5;28;01mreturn\u001b[39;00m wrapped_func(\u001b[38;5;241m*\u001b[39margs, \u001b[38;5;241m*\u001b[39m\u001b[38;5;241m*\u001b[39mkwargs)\n",
      "File \u001b[1;32m~\\anaconda3\\Lib\\site-packages\\google\\api_core\\retry\\retry_unary.py:293\u001b[0m, in \u001b[0;36mRetry.__call__.<locals>.retry_wrapped_func\u001b[1;34m(*args, **kwargs)\u001b[0m\n\u001b[0;32m    289\u001b[0m target \u001b[38;5;241m=\u001b[39m functools\u001b[38;5;241m.\u001b[39mpartial(func, \u001b[38;5;241m*\u001b[39margs, \u001b[38;5;241m*\u001b[39m\u001b[38;5;241m*\u001b[39mkwargs)\n\u001b[0;32m    290\u001b[0m sleep_generator \u001b[38;5;241m=\u001b[39m exponential_sleep_generator(\n\u001b[0;32m    291\u001b[0m     \u001b[38;5;28mself\u001b[39m\u001b[38;5;241m.\u001b[39m_initial, \u001b[38;5;28mself\u001b[39m\u001b[38;5;241m.\u001b[39m_maximum, multiplier\u001b[38;5;241m=\u001b[39m\u001b[38;5;28mself\u001b[39m\u001b[38;5;241m.\u001b[39m_multiplier\n\u001b[0;32m    292\u001b[0m )\n\u001b[1;32m--> 293\u001b[0m \u001b[38;5;28;01mreturn\u001b[39;00m retry_target(\n\u001b[0;32m    294\u001b[0m     target,\n\u001b[0;32m    295\u001b[0m     \u001b[38;5;28mself\u001b[39m\u001b[38;5;241m.\u001b[39m_predicate,\n\u001b[0;32m    296\u001b[0m     sleep_generator,\n\u001b[0;32m    297\u001b[0m     timeout\u001b[38;5;241m=\u001b[39m\u001b[38;5;28mself\u001b[39m\u001b[38;5;241m.\u001b[39m_timeout,\n\u001b[0;32m    298\u001b[0m     on_error\u001b[38;5;241m=\u001b[39mon_error,\n\u001b[0;32m    299\u001b[0m )\n",
      "File \u001b[1;32m~\\anaconda3\\Lib\\site-packages\\google\\api_core\\retry\\retry_unary.py:153\u001b[0m, in \u001b[0;36mretry_target\u001b[1;34m(target, predicate, sleep_generator, timeout, on_error, exception_factory, **kwargs)\u001b[0m\n\u001b[0;32m    149\u001b[0m \u001b[38;5;66;03m# pylint: disable=broad-except\u001b[39;00m\n\u001b[0;32m    150\u001b[0m \u001b[38;5;66;03m# This function explicitly must deal with broad exceptions.\u001b[39;00m\n\u001b[0;32m    151\u001b[0m \u001b[38;5;28;01mexcept\u001b[39;00m \u001b[38;5;167;01mException\u001b[39;00m \u001b[38;5;28;01mas\u001b[39;00m exc:\n\u001b[0;32m    152\u001b[0m     \u001b[38;5;66;03m# defer to shared logic for handling errors\u001b[39;00m\n\u001b[1;32m--> 153\u001b[0m     _retry_error_helper(\n\u001b[0;32m    154\u001b[0m         exc,\n\u001b[0;32m    155\u001b[0m         deadline,\n\u001b[0;32m    156\u001b[0m         sleep,\n\u001b[0;32m    157\u001b[0m         error_list,\n\u001b[0;32m    158\u001b[0m         predicate,\n\u001b[0;32m    159\u001b[0m         on_error,\n\u001b[0;32m    160\u001b[0m         exception_factory,\n\u001b[0;32m    161\u001b[0m         timeout,\n\u001b[0;32m    162\u001b[0m     )\n\u001b[0;32m    163\u001b[0m     \u001b[38;5;66;03m# if exception not raised, sleep before next attempt\u001b[39;00m\n\u001b[0;32m    164\u001b[0m     time\u001b[38;5;241m.\u001b[39msleep(sleep)\n",
      "File \u001b[1;32m~\\anaconda3\\Lib\\site-packages\\google\\api_core\\retry\\retry_base.py:212\u001b[0m, in \u001b[0;36m_retry_error_helper\u001b[1;34m(exc, deadline, next_sleep, error_list, predicate_fn, on_error_fn, exc_factory_fn, original_timeout)\u001b[0m\n\u001b[0;32m    206\u001b[0m \u001b[38;5;28;01mif\u001b[39;00m \u001b[38;5;129;01mnot\u001b[39;00m predicate_fn(exc):\n\u001b[0;32m    207\u001b[0m     final_exc, source_exc \u001b[38;5;241m=\u001b[39m exc_factory_fn(\n\u001b[0;32m    208\u001b[0m         error_list,\n\u001b[0;32m    209\u001b[0m         RetryFailureReason\u001b[38;5;241m.\u001b[39mNON_RETRYABLE_ERROR,\n\u001b[0;32m    210\u001b[0m         original_timeout,\n\u001b[0;32m    211\u001b[0m     )\n\u001b[1;32m--> 212\u001b[0m     \u001b[38;5;28;01mraise\u001b[39;00m final_exc \u001b[38;5;28;01mfrom\u001b[39;00m \u001b[38;5;21;01msource_exc\u001b[39;00m\n\u001b[0;32m    213\u001b[0m \u001b[38;5;28;01mif\u001b[39;00m on_error_fn \u001b[38;5;129;01mis\u001b[39;00m \u001b[38;5;129;01mnot\u001b[39;00m \u001b[38;5;28;01mNone\u001b[39;00m:\n\u001b[0;32m    214\u001b[0m     on_error_fn(exc)\n",
      "File \u001b[1;32m~\\anaconda3\\Lib\\site-packages\\google\\api_core\\retry\\retry_unary.py:144\u001b[0m, in \u001b[0;36mretry_target\u001b[1;34m(target, predicate, sleep_generator, timeout, on_error, exception_factory, **kwargs)\u001b[0m\n\u001b[0;32m    142\u001b[0m \u001b[38;5;28;01mfor\u001b[39;00m sleep \u001b[38;5;129;01min\u001b[39;00m sleep_generator:\n\u001b[0;32m    143\u001b[0m     \u001b[38;5;28;01mtry\u001b[39;00m:\n\u001b[1;32m--> 144\u001b[0m         result \u001b[38;5;241m=\u001b[39m target()\n\u001b[0;32m    145\u001b[0m         \u001b[38;5;28;01mif\u001b[39;00m inspect\u001b[38;5;241m.\u001b[39misawaitable(result):\n\u001b[0;32m    146\u001b[0m             warnings\u001b[38;5;241m.\u001b[39mwarn(_ASYNC_RETRY_WARNING)\n",
      "File \u001b[1;32m~\\anaconda3\\Lib\\site-packages\\google\\api_core\\timeout.py:130\u001b[0m, in \u001b[0;36mTimeToDeadlineTimeout.__call__.<locals>.func_with_timeout\u001b[1;34m(*args, **kwargs)\u001b[0m\n\u001b[0;32m    126\u001b[0m         remaining_timeout \u001b[38;5;241m=\u001b[39m \u001b[38;5;28mself\u001b[39m\u001b[38;5;241m.\u001b[39m_timeout\n\u001b[0;32m    128\u001b[0m     kwargs[\u001b[38;5;124m\"\u001b[39m\u001b[38;5;124mtimeout\u001b[39m\u001b[38;5;124m\"\u001b[39m] \u001b[38;5;241m=\u001b[39m remaining_timeout\n\u001b[1;32m--> 130\u001b[0m \u001b[38;5;28;01mreturn\u001b[39;00m func(\u001b[38;5;241m*\u001b[39margs, \u001b[38;5;241m*\u001b[39m\u001b[38;5;241m*\u001b[39mkwargs)\n",
      "File \u001b[1;32m~\\anaconda3\\Lib\\site-packages\\google\\api_core\\grpc_helpers.py:78\u001b[0m, in \u001b[0;36m_wrap_unary_errors.<locals>.error_remapped_callable\u001b[1;34m(*args, **kwargs)\u001b[0m\n\u001b[0;32m     76\u001b[0m     \u001b[38;5;28;01mreturn\u001b[39;00m callable_(\u001b[38;5;241m*\u001b[39margs, \u001b[38;5;241m*\u001b[39m\u001b[38;5;241m*\u001b[39mkwargs)\n\u001b[0;32m     77\u001b[0m \u001b[38;5;28;01mexcept\u001b[39;00m grpc\u001b[38;5;241m.\u001b[39mRpcError \u001b[38;5;28;01mas\u001b[39;00m exc:\n\u001b[1;32m---> 78\u001b[0m     \u001b[38;5;28;01mraise\u001b[39;00m exceptions\u001b[38;5;241m.\u001b[39mfrom_grpc_error(exc) \u001b[38;5;28;01mfrom\u001b[39;00m \u001b[38;5;21;01mexc\u001b[39;00m\n",
      "\u001b[1;31mResourceExhausted\u001b[0m: 429 You exceeded your current quota, please check your plan and billing details. For more information on this error, head to: https://ai.google.dev/gemini-api/docs/rate-limits. [violations {\n}\nviolations {\n}\nviolations {\n}\n, links {\n  description: \"Learn more about Gemini API quotas\"\n  url: \"https://ai.google.dev/gemini-api/docs/rate-limits\"\n}\n, retry_delay {\n  seconds: 40\n}\n]"
     ]
    }
   ],
   "source": [
    "url = \"https://en.wikipedia.org/wiki/Indian_Premier_League\"\n",
    "summary = full_pipeline(url)\n",
    "print(\"\\n Final Webpage Summary:\\n\")\n",
    "print(summary)\n"
   ]
  },
  {
   "cell_type": "code",
   "execution_count": null,
   "id": "cfb86a82-5eff-4788-9c1c-7e89b048ac07",
   "metadata": {},
   "outputs": [],
   "source": []
  }
 ],
 "metadata": {
  "kernelspec": {
   "display_name": "Python 3 (ipykernel)",
   "language": "python",
   "name": "python3"
  },
  "language_info": {
   "codemirror_mode": {
    "name": "ipython",
    "version": 3
   },
   "file_extension": ".py",
   "mimetype": "text/x-python",
   "name": "python",
   "nbconvert_exporter": "python",
   "pygments_lexer": "ipython3",
   "version": "3.12.7"
  }
 },
 "nbformat": 4,
 "nbformat_minor": 5
}
